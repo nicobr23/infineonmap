{
 "cells": [
  {
   "cell_type": "code",
   "execution_count": 2,
   "metadata": {},
   "outputs": [
    {
     "name": "stdout",
     "output_type": "stream",
     "text": [
      "4.8137\n"
     ]
    }
   ],
   "source": [
    "def format_coordinate(number):\n",
    "    # Convert the number to a string\n",
    "    num_str = str(number)\n",
    "    \n",
    "    # Insert a decimal point before the last four digits\n",
    "    formatted_str = num_str[:-4] + '.' + num_str[-4:]\n",
    "    \n",
    "    return formatted_str\n",
    "\n",
    "number = 481373\n",
    "formatted_coordinate = format_coordinate(number)\n",
    "print(formatted_coordinate)  # Output: 48.1371\n"
   ]
  },
  {
   "cell_type": "code",
   "execution_count": 6,
   "metadata": {},
   "outputs": [
    {
     "name": "stdout",
     "output_type": "stream",
     "text": [
      "   id                    name     lat     lng            user  \\\n",
      "0   1  Schloss Neuschwanstein  475575  107498        John Doe   \n",
      "1   2     Marienplatz München  481371  115754      Jane Smith   \n",
      "2   3       Würzburg Residenz  497913   99534  Max Mustermann   \n",
      "\n",
      "                                            infoText  \n",
      "0  A breathtaking castle in the Bavarian Alps, kn...  \n",
      "1  The heart of Munich's city center, surrounded ...  \n",
      "2  One of the most important Baroque palaces in E...  \n"
     ]
    }
   ],
   "source": [
    "import pandas as pd\n",
    "\n",
    "# Read Excel file\n",
    "df = pd.read_excel('locations.xlsx')\n",
    "\n",
    "# Convert the DataFrame to a list of dictionaries\n",
    "locations = df.to_dict(orient='records')\n",
    "\n",
    "print(df.head())\n",
    "# Structure the data as needed for the frontend\n",
    "formatted_locations = [\n",
    "    {\n",
    "        \"id\": loc['id'],\n",
    "        \"name\": loc['name'],\n",
    "        \"position\": {\"lat\": loc['lat'], \"lng\": loc['lng']},\n",
    "        \"user\": loc['user'],\n",
    "        \"infoText\": loc['infoText']\n",
    "    }\n",
    "    for loc in locations\n",
    "]"
   ]
  },
  {
   "cell_type": "code",
   "execution_count": 9,
   "metadata": {},
   "outputs": [
    {
     "data": {
      "text/html": [
       "<div>\n",
       "<style scoped>\n",
       "    .dataframe tbody tr th:only-of-type {\n",
       "        vertical-align: middle;\n",
       "    }\n",
       "\n",
       "    .dataframe tbody tr th {\n",
       "        vertical-align: top;\n",
       "    }\n",
       "\n",
       "    .dataframe thead th {\n",
       "        text-align: right;\n",
       "    }\n",
       "</style>\n",
       "<table border=\"1\" class=\"dataframe\">\n",
       "  <thead>\n",
       "    <tr style=\"text-align: right;\">\n",
       "      <th></th>\n",
       "      <th>id</th>\n",
       "      <th>name</th>\n",
       "      <th>lat</th>\n",
       "      <th>lng</th>\n",
       "      <th>user</th>\n",
       "      <th>infoText</th>\n",
       "    </tr>\n",
       "  </thead>\n",
       "  <tbody>\n",
       "    <tr>\n",
       "      <th>0</th>\n",
       "      <td>1</td>\n",
       "      <td>Schloss Neuschwanstein</td>\n",
       "      <td>47.5575</td>\n",
       "      <td>10.7498</td>\n",
       "      <td>John Doe</td>\n",
       "      <td>A breathtaking castle in the Bavarian Alps, kn...</td>\n",
       "    </tr>\n",
       "    <tr>\n",
       "      <th>1</th>\n",
       "      <td>2</td>\n",
       "      <td>Marienplatz München</td>\n",
       "      <td>48.1371</td>\n",
       "      <td>11.5754</td>\n",
       "      <td>Jane Smith</td>\n",
       "      <td>The heart of Munich's city center, surrounded ...</td>\n",
       "    </tr>\n",
       "    <tr>\n",
       "      <th>2</th>\n",
       "      <td>3</td>\n",
       "      <td>Würzburg Residenz</td>\n",
       "      <td>49.7913</td>\n",
       "      <td>9.9534</td>\n",
       "      <td>Max Mustermann</td>\n",
       "      <td>One of the most important Baroque palaces in E...</td>\n",
       "    </tr>\n",
       "  </tbody>\n",
       "</table>\n",
       "</div>"
      ],
      "text/plain": [
       "   id                    name      lat      lng            user  \\\n",
       "0   1  Schloss Neuschwanstein  47.5575  10.7498        John Doe   \n",
       "1   2     Marienplatz München  48.1371  11.5754      Jane Smith   \n",
       "2   3       Würzburg Residenz  49.7913   9.9534  Max Mustermann   \n",
       "\n",
       "                                            infoText  \n",
       "0  A breathtaking castle in the Bavarian Alps, kn...  \n",
       "1  The heart of Munich's city center, surrounded ...  \n",
       "2  One of the most important Baroque palaces in E...  "
      ]
     },
     "execution_count": 9,
     "metadata": {},
     "output_type": "execute_result"
    }
   ],
   "source": [
    "df.head()"
   ]
  },
  {
   "cell_type": "code",
   "execution_count": 11,
   "metadata": {},
   "outputs": [
    {
     "name": "stdout",
     "output_type": "stream",
     "text": [
      "[{'id': 1, 'name': 'Schloss Neuschwanstein', 'position': {'lat': 475575, 'lng': 107498}, 'user': 'John Doe', 'infoText': \"A breathtaking castle in the Bavarian Alps, known as the inspiration for Disney's Sleeping Beauty Castle.\"}, {'id': 2, 'name': 'Marienplatz München', 'position': {'lat': 481371, 'lng': 115754}, 'user': 'Jane Smith', 'infoText': \"The heart of Munich's city center, surrounded by historic buildings and famous for its Glockenspiel.\"}, {'id': 3, 'name': 'Würzburg Residenz', 'position': {'lat': 497913, 'lng': 99534}, 'user': 'Max Mustermann', 'infoText': 'One of the most important Baroque palaces in Europe, located in the city of Würzburg.'}]\n",
      "[{'id': 1, 'name': 'Schloss Neuschwanstein', 'position': {'lat': 475575, 'lng': 107498}, 'user': 'John Doe', 'infoText': \"A breathtaking castle in the Bavarian Alps, known as the inspiration for Disney's Sleeping Beauty Castle.\"}, {'id': 2, 'name': 'Marienplatz München', 'position': {'lat': 481371, 'lng': 115754}, 'user': 'Jane Smith', 'infoText': \"The heart of Munich's city center, surrounded by historic buildings and famous for its Glockenspiel.\"}, {'id': 3, 'name': 'Würzburg Residenz', 'position': {'lat': 497913, 'lng': 99534}, 'user': 'Max Mustermann', 'infoText': 'One of the most important Baroque palaces in Europe, located in the city of Würzburg.'}]\n"
     ]
    }
   ],
   "source": [
    "import pandas as pd\n",
    "\n",
    "def format_coordinate(number):\n",
    "    # Convert the number to a string\n",
    "    num_str = str(number)\n",
    "    \n",
    "    # Ensure the number is at least six digits long (add leading zeros if necessary)\n",
    "    num_str = num_str.zfill(6)\n",
    "    \n",
    "    # Insert a decimal point before the last four digits\n",
    "    formatted_str = num_str[:-4] + '.' + num_str[-4:]\n",
    "    \n",
    "    return formatted_str\n",
    "\n",
    "def load_locations_from_excel():\n",
    "    # Read Excel file\n",
    "    df = pd.read_excel('locations.xlsx')\n",
    "\n",
    "    # Apply formatting to lat and lng columns\n",
    "    df['lat'] = df['lat'].apply(lambda x: format_coordinate(int(x)))\n",
    "    df['lng'] = df['lng'].apply(lambda x: format_coordinate(int(x)))\n",
    "    \n",
    "    # Convert the DataFrame to a list of dictionaries with formatted lat and lng\n",
    "    locations = df.to_dict(orient='records')\n",
    "    \n",
    "    # Structure the data as needed for the frontend\n",
    "    formatted_locations = [\n",
    "        {\n",
    "            \"id\": loc['id'],\n",
    "            \"name\": loc['name'],\n",
    "            \"position\": {\"lat\": loc['lat'], \"lng\": loc['lng']},\n",
    "            \"user\": loc['user'],\n",
    "            \"infoText\": loc['infoText']\n",
    "        }\n",
    "        for loc in locations\n",
    "    ]\n",
    "    \n",
    "    print(formatted_locations)\n",
    "\n",
    "    return formatted_locations\n",
    "\n",
    "# Example usage\n",
    "formatted_locations = load_locations_from_excel()\n",
    "print(formatted_locations)"
   ]
  }
 ],
 "metadata": {
  "kernelspec": {
   "display_name": "Python 3",
   "language": "python",
   "name": "python3"
  },
  "language_info": {
   "codemirror_mode": {
    "name": "ipython",
    "version": 3
   },
   "file_extension": ".py",
   "mimetype": "text/x-python",
   "name": "python",
   "nbconvert_exporter": "python",
   "pygments_lexer": "ipython3",
   "version": "3.11.6"
  }
 },
 "nbformat": 4,
 "nbformat_minor": 2
}
