{
 "cells": [
  {
   "cell_type": "code",
   "execution_count": 2,
   "metadata": {},
   "outputs": [
    {
     "name": "stdout",
     "output_type": "stream",
     "text": [
      "4.8137\n"
     ]
    }
   ],
   "source": [
    "def format_coordinate(number):\n",
    "    # Convert the number to a string\n",
    "    num_str = str(number)\n",
    "    \n",
    "    # Insert a decimal point before the last four digits\n",
    "    formatted_str = num_str[:-4] + '.' + num_str[-4:]\n",
    "    \n",
    "    return formatted_str\n",
    "\n",
    "number = 481373\n",
    "formatted_coordinate = format_coordinate(number)\n",
    "print(formatted_coordinate)  # Output: 48.1371\n"
   ]
  },
  {
   "cell_type": "code",
   "execution_count": 6,
   "metadata": {},
   "outputs": [
    {
     "name": "stdout",
     "output_type": "stream",
     "text": [
      "   id                    name     lat     lng            user  \\\n",
      "0   1  Schloss Neuschwanstein  475575  107498        John Doe   \n",
      "1   2     Marienplatz München  481371  115754      Jane Smith   \n",
      "2   3       Würzburg Residenz  497913   99534  Max Mustermann   \n",
      "\n",
      "                                            infoText  \n",
      "0  A breathtaking castle in the Bavarian Alps, kn...  \n",
      "1  The heart of Munich's city center, surrounded ...  \n",
      "2  One of the most important Baroque palaces in E...  \n"
     ]
    }
   ],
   "source": [
    "import pandas as pd\n",
    "\n",
    "# Read Excel file\n",
    "df = pd.read_excel('locations.xlsx')\n",
    "\n",
    "# Convert the DataFrame to a list of dictionaries\n",
    "locations = df.to_dict(orient='records')\n",
    "\n",
    "print(df.head())\n",
    "# Structure the data as needed for the frontend\n",
    "formatted_locations = [\n",
    "    {\n",
    "        \"id\": loc['id'],\n",
    "        \"name\": loc['name'],\n",
    "        \"position\": {\"lat\": loc['lat'], \"lng\": loc['lng']},\n",
    "        \"user\": loc['user'],\n",
    "        \"infoText\": loc['infoText']\n",
    "    }\n",
    "    for loc in locations\n",
    "]"
   ]
  },
  {
   "cell_type": "code",
   "execution_count": 9,
   "metadata": {},
   "outputs": [
    {
     "data": {
      "text/html": [
       "<div>\n",
       "<style scoped>\n",
       "    .dataframe tbody tr th:only-of-type {\n",
       "        vertical-align: middle;\n",
       "    }\n",
       "\n",
       "    .dataframe tbody tr th {\n",
       "        vertical-align: top;\n",
       "    }\n",
       "\n",
       "    .dataframe thead th {\n",
       "        text-align: right;\n",
       "    }\n",
       "</style>\n",
       "<table border=\"1\" class=\"dataframe\">\n",
       "  <thead>\n",
       "    <tr style=\"text-align: right;\">\n",
       "      <th></th>\n",
       "      <th>id</th>\n",
       "      <th>name</th>\n",
       "      <th>lat</th>\n",
       "      <th>lng</th>\n",
       "      <th>user</th>\n",
       "      <th>infoText</th>\n",
       "    </tr>\n",
       "  </thead>\n",
       "  <tbody>\n",
       "    <tr>\n",
       "      <th>0</th>\n",
       "      <td>1</td>\n",
       "      <td>Schloss Neuschwanstein</td>\n",
       "      <td>47.5575</td>\n",
       "      <td>10.7498</td>\n",
       "      <td>John Doe</td>\n",
       "      <td>A breathtaking castle in the Bavarian Alps, kn...</td>\n",
       "    </tr>\n",
       "    <tr>\n",
       "      <th>1</th>\n",
       "      <td>2</td>\n",
       "      <td>Marienplatz München</td>\n",
       "      <td>48.1371</td>\n",
       "      <td>11.5754</td>\n",
       "      <td>Jane Smith</td>\n",
       "      <td>The heart of Munich's city center, surrounded ...</td>\n",
       "    </tr>\n",
       "    <tr>\n",
       "      <th>2</th>\n",
       "      <td>3</td>\n",
       "      <td>Würzburg Residenz</td>\n",
       "      <td>49.7913</td>\n",
       "      <td>9.9534</td>\n",
       "      <td>Max Mustermann</td>\n",
       "      <td>One of the most important Baroque palaces in E...</td>\n",
       "    </tr>\n",
       "  </tbody>\n",
       "</table>\n",
       "</div>"
      ],
      "text/plain": [
       "   id                    name      lat      lng            user  \\\n",
       "0   1  Schloss Neuschwanstein  47.5575  10.7498        John Doe   \n",
       "1   2     Marienplatz München  48.1371  11.5754      Jane Smith   \n",
       "2   3       Würzburg Residenz  49.7913   9.9534  Max Mustermann   \n",
       "\n",
       "                                            infoText  \n",
       "0  A breathtaking castle in the Bavarian Alps, kn...  \n",
       "1  The heart of Munich's city center, surrounded ...  \n",
       "2  One of the most important Baroque palaces in E...  "
      ]
     },
     "execution_count": 9,
     "metadata": {},
     "output_type": "execute_result"
    }
   ],
   "source": [
    "df.head()"
   ]
  },
  {
   "cell_type": "code",
   "execution_count": 4,
   "metadata": {},
   "outputs": [
    {
     "name": "stdout",
     "output_type": "stream",
     "text": [
      "[{'id': 0, 'name': 'Cafe Boot in Mariaort', 'position': {'lat': '49.01898798697924', 'lng': ' 12.031404677911548'}, 'user': 'Benkert Michael (BE R QM)', 'infoText': 'Im Café\\xa0Boot, welches zum Kanuverleih \"Paddelzeit\" gehört, heißt es ankommen und\\xa0den\\xa0Urlaubsmodus anschalten. Das liebevoll eingerichteteCafé\\u200b bietet nicht nur Kaffee\\xa0und Kuchen, sondern auch viele weitere antialkoholische und alkoholische Getränke an –\\xa0sowie Eis :-)\\n\\nDurch die ruhige\\xa0Lage lädt der Platz zum Verweilen ein und ist schon lange kein Ort mehr,\\u200b\\xa0um\\xa0sich nur\\xa0die Zeit vor der Paddeltour zu\\xa0vertreiben!\\u200b\\n\\n\\n\\n\\n'}, {'id': 1, 'name': 'Alte Eiche an der Watzlik-Kapelle, Tremmelhauserhöhe', 'position': {'lat': '49.042323722002614', 'lng': ' 12.042243555364974'}, 'user': 'Rakow Bernd (BE DEV TPM CWP)', 'infoText': \"Dies ist ein beschaulicher Ort, um die\\xa0Seele baumeln zu\\xa0lassen. Ich bin gerne dort, manchmal nach der Arbeit zum Entspannen oder\\xa0auch am Wochenende. Es ist zu jeder Jahreszeit ein schöner Spaziergang vom Parkplatz vom\\xa0Hof-Wirt aus, der\\xa0Tremmelhauserhöhe.\\u200b Besonders nett ist's dort zur Rapsblüte während des Sonnenuntergangs.\\u200b\\n\"}, {'id': 2, 'name': 'Bank im Gesandtenfriedhof bei der Dreieinigkeitskirche', 'position': {'lat': '49.018260', 'lng': ' 12.092114'}, 'user': 'Sessler Wolfgang (CSC FI MEA ANA DS)', 'infoText': 'Eine Ecke Ruhe, gleich neben einer Straße voller Leben.\\n\\u200bDer Gesandtenfriedhof – ein spezieller Ort in einer an\\xa0historischen Orten nicht armen\\xa0Stadt. \\u200b\\u200bWährend des Immerwährenden Reichstags entstand hier der einzige evangelische Gesandtenfriedhof Europas.\\xa0Man findet hier im Trubel der Stadt einen ruhigen Ort – und das ohne Konsumzwang. Besonders wirksam wird es, wenn die Renovierungen 2026 abgeschlossen sein werden.\\xa0In einem Winkel wird wieder eine Ruhe-Ecke mit einem schützenden Baum entstehen – und das umgeben von gelebten Geschichten, wie Familiendramen oder politischen Intrigen. Und wer vor oder nach einer Pause noch hoch hinaus\\xa0will, der kann auf den Turm der Dreieinigkeitskirche steigen, um einen schönen Blick über die Stadt zu bekommen. Speziell am Abend, wenn die Lichter in der Stadt angehen, ein schöner Ort, um zu sein.\\n\\n'}, {'id': 3, 'name': 'Marc-Aurel-Ufer, Regensburg', 'position': {'lat': '49.02077369450796', 'lng': ' 12.10024729740329'}, 'user': 'Spangenberg Marcus (FE RBG C)', 'infoText': 'Wer es mal ruhig und auch mal sehr wuselig mag, ist auf einer der Bänke am Marc-Aurel-Ufer entlang der Donau bestens aufgehoben. Hier kommen Einheimische (\"Schön, Dich zu sehen!\") ebenso vorbei, wie Menschen aus allen Ländern (\"How do I get to the cathedral, please?\\u200b\"). Es\\u200b\\xa0ist eine Gesamtschau des Typen Mensch und von Hunderassen. Die fahrenden Schiffe wie die festgemachten des Schifffahrtsmuseums bieten auch\\xa0Abwechslung. Und das Beste: Gleich auf der anderen Straßenseite gibt es im Aamu bestes Eis und Kaffee, auch zum Mitnehmen (und Wiederbringen)\\xa0in der Tasse.\\n'}, {'id': 4, 'name': 'Spielplatz Fikentscherstraße', 'position': {'lat': '49.00645815385427', 'lng': ' 12.09096353604922'}, 'user': 'Blinzler Verena (FE RBG C)', 'infoText': 'Der Spielplatz liegt versteckt, umringt von Gärten, mitten im Wohngebiet. Kinder können hier frei spielen, ohne Autos oder Durchgangsverkehr. Viele Bäume bieten im Sommer Schatten. Ein nett angelegter Sandkasten mit Wasserpumpe für die Kleinen, ein Klettergerüst mit Rutsche für die Größeren. Eine Eisdiele gibt es auch in der Nähe.\\n'}, {'id': 5, 'name': 'Auf der Suche nach dem Himmel der Bayern', 'position': {'lat': '48.8977173', 'lng': '11.8882409'}, 'user': 'Bohn Horst (IT OS WP OA ED)', 'infoText': 'In Mitten von Feldern,\\u200b umrahmt von\\xa0Wald, Bayernfahne und \"\\u200bBavaria Blue Sky\": Die\\xa0Kapelle auf dem Affeckinger Berg in Kelheim ist\\xa0ein magischer Ort.\\n\\nDort findet man die Ruhe und Besinnung auf das Wesentliche.\\xa0 Himmel und Erde \\u200bsind\\xa0gleichzeitig nicht nur optisch zu\\xa0erleben; es schärft die\\xa0Sinne,\\xa0mitten in der Natur zu sein.Rund herum mit einer Wiese voller Leben\\u200b\\u200b\\u200b – Insekten,kleinen Reptilien und Vögeln. Das ist im wahrsten Sinne\\xa0einfach natürlich.\\u200b\\u200b\\nAuch die Tiere des Waldes lassen sich hin und wieder und\\xa0nach Tageszeit auf den Feldern sehen, umrahmt von Wald,\\u200b wie auf einem gemalten\\xa0Bild. Der Ort\\xa0gibt einem die Energie wieder, die uns der Alltag abfordert. Der Trubel der\\xa0Städte\\xa0liegt hier hinter uns - es ist\\xa0ein Ort des Friedens.\\nGleichzeitig mahnt es uns, in Einklang mit der Natur zu leben, damit uns unsere Heimat und \"Mutter Erde\" erhalten bleibt.\\n\\n\\n\\n\\n\\n\\n\\n'}, {'id': 6, 'name': 'Pfaffensteiner Wehr', 'position': {'lat': '49.02708799815702', 'lng': ' 12.076379305724535'}, 'user': 'Gruenewald Clemens (FE QM FA RBG 1)', 'infoText': 'Das Hochwasser im Sommer 2024 hat überraschend am Pfaffensteiner\\xa0Wehr eine neue, kleine Halbinsel in der Donau zurückgelassen. Ein kleiner Sandstrand, den es vorher nicht gab. Dort konnte man vor dem Hochwasser nachts Biber beobachten,\\xa0wie sie Zweige sammeln. J\\u200betzt sitzen dort Angler und menschliche\\xa0Baumeister, die aus Ästen spielerisch einen Unterstand gebaut haben.\\n'}, {'id': 7, 'name': 'Toller Ausblick auf Regenstauf', 'position': {'lat': '49.11549569639288', 'lng': ' 12.143423112648119'}, 'user': 'Rentsch Andreas (IT OS IC VCP PC)', 'infoText': 'Ein meist ruhiges Plätzens - vor allem am Abend sehr schön sich den Wund um die Nase wehen zu lassen. Es gibt von dort einen tollen Ausblick auf Regenstauf.\\n'}, {'id': 8, 'name': 'Gasthaus Zirngibl in Bad Abbach', 'position': {'lat': '48.93644130194383', 'lng': ' 12.040389229543164'}, 'user': 'Zirngibl Wolfgang (FE RBG QM QF AUDIT)', 'infoText': '\\nEntdecken Sie bayerische Gaumenfreuden im Gasthaus Zirngibl in Bad Abbach\\nNur wenige Kilometer von Regensburg entfernt, steht das Gasthaus Zirngibl in Bad Abbach als Zeugnis bayerischer Tradition. Gut mit dem Fahrrad zu erreichen.\\nUnvergleichliche Gastfreundschaft und Service\\nSie werden mit einem freundlichen Lächeln und einer Speisekarte begrüßt, die voller bayerischer Köstlichkeiten steckt. Auch spontane Besuche sind kein Problem. Die großzügigen Portionen garantieren, dass niemand hungrig nach Hause geht.\\nEin kulinarisches Ziel, das man besucht haben muss\\u200b\\n'}]\n"
     ]
    }
   ],
   "source": [
    "import pandas as pd\n",
    "\n",
    "def format_coordinate(number):\n",
    "    # Convert the number to a string\n",
    "    num_str = str(number)\n",
    "    \n",
    "    # Ensure the number is at least six digits long (add leading zeros if necessary)\n",
    "    num_str = num_str.zfill(6)\n",
    "    \n",
    "    # Insert a decimal point before the last four digits\n",
    "    formatted_str = num_str[:-4] + '.' + num_str[-4:]\n",
    "    \n",
    "    return formatted_str\n",
    "\n",
    "def load_locations_from_excel():\n",
    "    # Load the Excel file\n",
    "    df = pd.read_excel('InfineonMap.xlsx')\n",
    "    \n",
    "    # Split the 'Geo-Koordinaten' into 'lat' and 'lng'\n",
    "    df[['lat', 'lng']] = df['Geo-Koordinaten'].str.split(',', expand=True)\n",
    "    \n",
    "    # Convert lat and lng to floats and format them\n",
    "   \n",
    "    # Convert the DataFrame to a list of dictionaries\n",
    "    locations = df.to_dict(orient='records')\n",
    "\n",
    "    # Structure the data as needed for the frontend\n",
    "    formatted_locations = [\n",
    "        {\n",
    "            \"id\": index,  # Using the index as the id\n",
    "            \"name\": loc['Bezeichnung des Ortes'],\n",
    "            \"position\": {\"lat\": loc['lat'], \"lng\": loc['lng']},\n",
    "            \"user\": loc['Created By'],\n",
    "            \"infoText\": loc['kurze Beschreibung / Begründung']\n",
    "        }\n",
    "        for index, loc in enumerate(locations)\n",
    "    ]\n",
    "\n",
    "    return formatted_locations\n",
    "\n",
    "# Example usage\n",
    "formatted_locations = load_locations_from_excel()\n",
    "print(formatted_locations)"
   ]
  }
 ],
 "metadata": {
  "kernelspec": {
   "display_name": "Python 3",
   "language": "python",
   "name": "python3"
  },
  "language_info": {
   "codemirror_mode": {
    "name": "ipython",
    "version": 3
   },
   "file_extension": ".py",
   "mimetype": "text/x-python",
   "name": "python",
   "nbconvert_exporter": "python",
   "pygments_lexer": "ipython3",
   "version": "3.11.6"
  }
 },
 "nbformat": 4,
 "nbformat_minor": 2
}
